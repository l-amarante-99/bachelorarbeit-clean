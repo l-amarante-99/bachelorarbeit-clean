{
 "cells": [
  {
   "cell_type": "code",
   "execution_count": 1,
   "id": "f7e2695f-558d-40f2-a155-6c341206d7cf",
   "metadata": {},
   "outputs": [],
   "source": [
    "import pandas as pd\n",
    "import seaborn as sns\n",
    "import matplotlib.pyplot as plt"
   ]
  },
  {
   "cell_type": "markdown",
   "id": "1adc0b57",
   "metadata": {},
   "source": [
    "Keep only AD and CN, ignore MCI cases:"
   ]
  },
  {
   "cell_type": "code",
   "execution_count": null,
   "id": "c67d6454-3b81-42a1-879c-e95c0d6dd743",
   "metadata": {},
   "outputs": [],
   "source": [
    "df = pd.read_csv(\"PATH-on-Charité-HPC\")\n",
    "df = df[df[\"label\"].isin([0, 2])].copy()\n",
    "df[\"label\"] = df[\"label\"].replace({2: 1})  # AD=1, CN=0"
   ]
  },
  {
   "cell_type": "markdown",
   "id": "d33a5b12",
   "metadata": {},
   "source": [
    "Get the correlations:"
   ]
  },
  {
   "cell_type": "code",
   "execution_count": 4,
   "id": "ff32d9bd-1d29-4035-8039-ab8c75ac4c00",
   "metadata": {},
   "outputs": [
    {
     "name": "stdout",
     "output_type": "stream",
     "text": [
      "label        1.000000\n",
      "LDELTOTAL    0.876837\n",
      "LIMMTOTAL    0.839043\n",
      "FAQTOTAL     0.800665\n",
      "CDRSB        0.701861\n",
      "MMSCORE      0.624384\n",
      "TOTALMOD     0.611402\n",
      "TOTAL11      0.597742\n",
      "NPISCORE     0.436142\n",
      "NXVISUAL     0.162658\n",
      "Name: label, dtype: float64\n"
     ]
    }
   ],
   "source": [
    "numeric_df = df.drop(columns=[\"PTID\", \"RID\"])\n",
    "numeric_df = numeric_df.select_dtypes(include=[\"number\"])  # keep only numeric columns\n",
    "\n",
    "correlations = numeric_df.corr()[\"label\"].abs().sort_values(ascending=False)\n",
    "print(correlations.head(10))"
   ]
  }
 ],
 "metadata": {
  "kernelspec": {
   "display_name": "Python [conda env:conda_envs-compute-conda]",
   "language": "python",
   "name": "conda-env-conda_envs-compute-conda-py"
  },
  "language_info": {
   "codemirror_mode": {
    "name": "ipython",
    "version": 3
   },
   "file_extension": ".py",
   "mimetype": "text/x-python",
   "name": "python",
   "nbconvert_exporter": "python",
   "pygments_lexer": "ipython3",
   "version": "3.10.8"
  }
 },
 "nbformat": 4,
 "nbformat_minor": 5
}
