{
 "cells": [
  {
   "cell_type": "markdown",
   "id": "fb061369-fb86-4e28-931b-7fef5d876e66",
   "metadata": {},
   "source": [
    "Create a merged csv for the late fusion model:"
   ]
  },
  {
   "cell_type": "code",
   "execution_count": 2,
   "id": "4913d2cc-4c4b-4256-9360-02e236f8fe47",
   "metadata": {},
   "outputs": [],
   "source": [
    "import pandas as pd"
   ]
  },
  {
   "cell_type": "code",
   "execution_count": null,
   "id": "1db77a66-fbab-40be-81bd-9ec28bd558b6",
   "metadata": {},
   "outputs": [],
   "source": [
    "mri_csv = \"PATH-on-Charité-HPC/MRI_DIAGNOSIS.csv\"\n",
    "clinical_csv = \"PATH-on-Charité-HPC/clinical-5.csv\""
   ]
  },
  {
   "cell_type": "code",
   "execution_count": 9,
   "id": "2d23071a-2ac9-4e71-bc36-2c72961312cb",
   "metadata": {},
   "outputs": [],
   "source": [
    "mri_df = pd.read_csv(mri_csv, dtype={\"RID\": str})\n",
    "clinical_df = pd.read_csv(clinical_csv)"
   ]
  },
  {
   "cell_type": "markdown",
   "id": "499f4505",
   "metadata": {},
   "source": [
    "Keep only patients with label AD=1 and CN=0 for MRI metadata:"
   ]
  },
  {
   "cell_type": "code",
   "execution_count": 14,
   "id": "8ab28c35-73c7-4cc4-ab74-459ea9c4cab5",
   "metadata": {},
   "outputs": [],
   "source": [
    "mri_df = mri_df[mri_df[\"Diagnosis_Code\"].isin([0, 2])].copy()\n",
    "mri_df[\"EXAMDATE\"] = pd.to_datetime(mri_df[\"EXAMDATE\"])\n",
    "mri_df[\"Diagnosis_Code\"] = mri_df[\"Diagnosis_Code\"].replace({2: 1})"
   ]
  },
  {
   "cell_type": "code",
   "execution_count": 15,
   "id": "f545bc35-d8f7-42b8-bf08-4aec375985eb",
   "metadata": {},
   "outputs": [
    {
     "data": {
      "text/plain": [
       "array([0, 1])"
      ]
     },
     "execution_count": 15,
     "metadata": {},
     "output_type": "execute_result"
    }
   ],
   "source": [
    "mri_df[\"Diagnosis_Code\"].unique()"
   ]
  },
  {
   "cell_type": "markdown",
   "id": "d4d2cef5",
   "metadata": {},
   "source": [
    "Remove unnecessary columns:"
   ]
  },
  {
   "cell_type": "code",
   "execution_count": 25,
   "id": "c4040c0f-e424-4227-9134-010bef7e7022",
   "metadata": {},
   "outputs": [],
   "source": [
    "mri_cols_to_keep = [\"PTID\", \"EXAMDATE\", \"Diagnosis_Code\"]\n",
    "mri_df = mri_df[[col for col in mri_df.columns if col in mri_cols_to_keep]]"
   ]
  },
  {
   "cell_type": "code",
   "execution_count": 26,
   "id": "0fdae2e9-6a3f-4e24-9f67-53b7036f6dd2",
   "metadata": {},
   "outputs": [
    {
     "data": {
      "text/plain": [
       "Index(['PTID', 'EXAMDATE', 'Diagnosis_Code'], dtype='object')"
      ]
     },
     "execution_count": 26,
     "metadata": {},
     "output_type": "execute_result"
    }
   ],
   "source": [
    "mri_df.columns"
   ]
  },
  {
   "cell_type": "markdown",
   "id": "2a59fda9",
   "metadata": {},
   "source": [
    "Keep only patients with label AD=1 and CN=0 for Clinical data:"
   ]
  },
  {
   "cell_type": "code",
   "execution_count": 16,
   "id": "fadc0732-cd5b-4e18-a960-58e39bf3c7f5",
   "metadata": {},
   "outputs": [],
   "source": [
    "clinical_df = clinical_df[clinical_df[\"label\"].isin([0, 2])].copy()\n",
    "clinical_df[\"label\"] = clinical_df[\"label\"].replace({2: 1})"
   ]
  },
  {
   "cell_type": "code",
   "execution_count": 6,
   "id": "96e7f290-0c35-46b3-aeaa-9daa3a26332a",
   "metadata": {},
   "outputs": [
    {
     "data": {
      "text/plain": [
       "Index(['PTID', 'RID', 'label', 'NXVISUAL', 'NXAUDITO', 'NXTREMOR', 'NXCONSCI',\n",
       "       'NXNERVE', 'NXMOTOR', 'NXFINGER', 'NXHEEL', 'NXSENSOR', 'NXTENDON',\n",
       "       'NXPLANTA', 'NXGAIT', 'NXABNORM', 'TOTAL11', 'TOTALMOD', 'MMSCORE',\n",
       "       'GDTOTAL', 'HMSCORE', 'MH4CARD', 'MH5RESP', 'NPISCORE', 'GENOTYPE'],\n",
       "      dtype='object')"
      ]
     },
     "execution_count": 6,
     "metadata": {},
     "output_type": "execute_result"
    }
   ],
   "source": [
    "clinical_df.columns"
   ]
  },
  {
   "cell_type": "markdown",
   "id": "4aa9dba8",
   "metadata": {},
   "source": [
    "One-Hot encoding of the Genotype column:"
   ]
  },
  {
   "cell_type": "code",
   "execution_count": 17,
   "id": "a3cba2c5-0611-4ccc-9758-dd2ae127cd47",
   "metadata": {},
   "outputs": [],
   "source": [
    "genotype_dummies = pd.get_dummies(clinical_df[\"GENOTYPE\"], prefix=\"GENO\")\n",
    "clinical_df = clinical_df.drop(columns=[\"GENOTYPE\"])\n",
    "clinical_df = pd.concat([clinical_df, genotype_dummies], axis=1)"
   ]
  },
  {
   "cell_type": "code",
   "execution_count": 18,
   "id": "91109493-f8f2-49a7-aa77-726a2a969c10",
   "metadata": {},
   "outputs": [
    {
     "data": {
      "text/plain": [
       "Index(['PTID', 'RID', 'label', 'NXVISUAL', 'NXAUDITO', 'NXTREMOR', 'NXCONSCI',\n",
       "       'NXNERVE', 'NXMOTOR', 'NXFINGER', 'NXHEEL', 'NXSENSOR', 'NXTENDON',\n",
       "       'NXPLANTA', 'NXGAIT', 'NXABNORM', 'TOTAL11', 'TOTALMOD', 'MMSCORE',\n",
       "       'GDTOTAL', 'HMSCORE', 'MH4CARD', 'MH5RESP', 'NPISCORE', 'GENO_2/2',\n",
       "       'GENO_2/3', 'GENO_2/4', 'GENO_3/3', 'GENO_3/4', 'GENO_4/4'],\n",
       "      dtype='object')"
      ]
     },
     "execution_count": 18,
     "metadata": {},
     "output_type": "execute_result"
    }
   ],
   "source": [
    "clinical_df.columns"
   ]
  },
  {
   "cell_type": "markdown",
   "id": "f86d48b0",
   "metadata": {},
   "source": [
    "Drop RID (equivalent to PTID):"
   ]
  },
  {
   "cell_type": "code",
   "execution_count": 21,
   "id": "c3ca2d4a-8624-4d83-aab1-384e1c5d9747",
   "metadata": {},
   "outputs": [],
   "source": [
    "clinical_df = clinical_df.drop(columns=[\"RID\"], errors=\"ignore\")"
   ]
  },
  {
   "cell_type": "markdown",
   "id": "4524651c",
   "metadata": {},
   "source": [
    "Merge clinical and MRI metadata:"
   ]
  },
  {
   "cell_type": "code",
   "execution_count": 27,
   "id": "e75c9636-f488-40a3-af15-8c1315ca049c",
   "metadata": {},
   "outputs": [],
   "source": [
    "merged = pd.merge(mri_df, clinical_df, on=\"PTID\", how=\"inner\")"
   ]
  },
  {
   "cell_type": "code",
   "execution_count": 30,
   "id": "ea08ba7d-3e15-4ed4-b2e0-71f0ce0f8809",
   "metadata": {},
   "outputs": [
    {
     "data": {
      "text/plain": [
       "Index(['PTID', 'EXAMDATE', 'Diagnosis_Code', 'NXVISUAL', 'NXAUDITO',\n",
       "       'NXTREMOR', 'NXCONSCI', 'NXNERVE', 'NXMOTOR', 'NXFINGER', 'NXHEEL',\n",
       "       'NXSENSOR', 'NXTENDON', 'NXPLANTA', 'NXGAIT', 'NXABNORM', 'TOTAL11',\n",
       "       'TOTALMOD', 'MMSCORE', 'GDTOTAL', 'HMSCORE', 'MH4CARD', 'MH5RESP',\n",
       "       'NPISCORE', 'GENO_2/2', 'GENO_2/3', 'GENO_2/4', 'GENO_3/3', 'GENO_3/4',\n",
       "       'GENO_4/4'],\n",
       "      dtype='object')"
      ]
     },
     "execution_count": 30,
     "metadata": {},
     "output_type": "execute_result"
    }
   ],
   "source": [
    "merged.columns"
   ]
  },
  {
   "cell_type": "markdown",
   "id": "37b5d9e3",
   "metadata": {},
   "source": [
    "Keep only one column with diagnoses:"
   ]
  },
  {
   "cell_type": "code",
   "execution_count": 29,
   "id": "38e75a1c-fa3d-4375-85d0-edb4f250acd9",
   "metadata": {},
   "outputs": [],
   "source": [
    "merged = merged.drop(columns=[\"label\"], errors=\"ignore\")"
   ]
  },
  {
   "cell_type": "markdown",
   "id": "3165da5b",
   "metadata": {},
   "source": [
    "Check if there are patients without diagnoses:"
   ]
  },
  {
   "cell_type": "code",
   "execution_count": 34,
   "id": "72185671-915d-4635-8e1e-0f37385dd3fb",
   "metadata": {},
   "outputs": [
    {
     "data": {
      "text/plain": [
       "array([False])"
      ]
     },
     "execution_count": 34,
     "metadata": {},
     "output_type": "execute_result"
    }
   ],
   "source": [
    "merged[\"Diagnosis_Code\"].isna().unique()"
   ]
  },
  {
   "cell_type": "markdown",
   "id": "6d3dbcac",
   "metadata": {},
   "source": [
    "Final version:"
   ]
  },
  {
   "cell_type": "code",
   "execution_count": null,
   "id": "0f929e04-090e-4601-afa5-e95e4f09bb23",
   "metadata": {},
   "outputs": [],
   "source": [
    "output_csv = \"PATH-on-Charité-HPC/merged_multimodal.csv\"\n",
    "merged.to_csv(output_csv, index=False)"
   ]
  },
  {
   "cell_type": "markdown",
   "id": "dd153f0d",
   "metadata": {},
   "source": [
    "Check the Input dimension for the clinical model:"
   ]
  },
  {
   "cell_type": "code",
   "execution_count": null,
   "id": "19514a6a-f0d6-4f2d-ad7d-ed5f4e68fca1",
   "metadata": {},
   "outputs": [],
   "source": [
    "df = pd.read_csv(\"merged_multimodal.csv\")\n",
    "df.head()"
   ]
  },
  {
   "cell_type": "code",
   "execution_count": 4,
   "id": "bd96d084-0be6-4bb5-94df-da15a9e13534",
   "metadata": {},
   "outputs": [
    {
     "name": "stdout",
     "output_type": "stream",
     "text": [
      "Input dim: 27\n"
     ]
    }
   ],
   "source": [
    "clinical_cols = [col for col in df.columns if col not in [\"PTID\", \"EXAMDATE\", \"Diagnosis_Code\"]]\n",
    "print(\"Input dim:\", len(clinical_cols))"
   ]
  }
 ],
 "metadata": {
  "kernelspec": {
   "display_name": "Python [conda env:conda_envs-compute-conda]",
   "language": "python",
   "name": "conda-env-conda_envs-compute-conda-py"
  },
  "language_info": {
   "codemirror_mode": {
    "name": "ipython",
    "version": 3
   },
   "file_extension": ".py",
   "mimetype": "text/x-python",
   "name": "python",
   "nbconvert_exporter": "python",
   "pygments_lexer": "ipython3",
   "version": "3.10.8"
  }
 },
 "nbformat": 4,
 "nbformat_minor": 5
}
